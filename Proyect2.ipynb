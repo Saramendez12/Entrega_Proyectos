{
  "nbformat": 4,
  "nbformat_minor": 0,
  "metadata": {
    "colab": {
      "provenance": [],
      "collapsed_sections": []
    },
    "kernelspec": {
      "name": "python3",
      "display_name": "Python 3"
    },
    "language_info": {
      "name": "python"
    }
  },
  "cells": [
    {
      "cell_type": "code",
      "source": [
        "class Estadisticos:\n",
        "  def __init__(self,x:list):\n",
        "        self.x=x\n",
        "        self.n=len(self.x)\n",
        "        self.c=self.x.count\n",
        "  def media(self)-> list:\n",
        "    \"\"\"Muestra la media aritmetica de un conjunto de datos numericos\n",
        "    \"\"\"\n",
        "    return sum(self.x)/len(self.x)\n",
        "  def mediana(self)-> list:\n",
        "\n",
        "    \"\"\"Muestra la mediana (valor medio) de un conjunto de datos numericos\n",
        "      Cuando el numero de datos es impar, muestra el valor medio\n",
        "      Cuando el numero de datos es par, se muestra la media entre los dos datos que se encuantran en la mitad del conjunto numerico\n",
        "    \"\"\"\n",
        "\n",
        "    mitad= len(self.x)//2\n",
        "    self.x.sort()\n",
        "    if not len(self.x) % 2:\n",
        "      return (self.x[mitad -1]+ self.x[mitad])/2.0\n",
        "    return self.x[mitad]\n",
        "  def moda(self)-> list:\n",
        "    \"\"\"Muestra el/los datos que mas se repiten dentro del conjunto de datos\n",
        "    \"\"\"\n",
        "    y=[]\n",
        "    con = 0\n",
        "    for num in self.x:\n",
        "      if self.x.count(num) > con:\n",
        "          y=[]\n",
        "          y.append(num)\n",
        "          con = self.x.count(num)\n",
        "      elif self.x.count(num)==con:\n",
        "          if not num in y:\n",
        "                y.append(num)\n",
        "                con = self.x.count(num)\n",
        "    return y\n",
        "  def varianza(self)-> list:\n",
        "    \"\"\"Muestra la varianza muestral del conjunto de datos numericos\n",
        "    \"\"\"\n",
        "\n",
        "    y=[]\n",
        "    for i in self.x:\n",
        "      y.append((i-(sum(self.x)/len(self.x)))**2)\n",
        "    return (sum(y))/(len(self.x)-1)\n",
        "  def desviacion(self)-> list:\n",
        "    \"\"\"Muestra la desviacion estandar del conjunto de datos numericos\n",
        "    \"\"\"\n",
        "    return (self.varianza()** 0.5)\n",
        "  def coeficiente_var(self)-> list:\n",
        "    \"\"\"Muestra el coeficiente de variacion del conjunto de datos numericos\n",
        "    \"\"\"\n",
        "    return self.desviacion()/ abs(self.media())\n",
        "  def curtosis(self)-> list:\n",
        "    \"\"\"Muestra la curtosis del conjunto de datos numericos\n",
        "    \"\"\"\n",
        "    y=[]\n",
        "    for i in self.x:\n",
        "      y.append(((i)-(sum(self.x)/len(self.x)))**4)\n",
        "    return (sum(y)/((self.n)*(self.desviacion()**4)))\n",
        "  def simetria(self)-> list:\n",
        "    \"\"\"Muestra el grado de simetria que presenta el conjunto de datos numericos\n",
        "    \"\"\"\n",
        "    y=[]\n",
        "    for i in self.x:\n",
        "      y.append(((i)-(sum(self.x)/len(self.x)))**3)\n",
        "    return (sum(y)/((self.n)*(self.desviacion()**3)))"
      ],
      "metadata": {
        "id": "QvP3zyr4Pahd"
      },
      "execution_count": null,
      "outputs": []
    },
    {
      "cell_type": "code",
      "source": [
        "!pip install paq-proyecto"
      ],
      "metadata": {
        "colab": {
          "base_uri": "https://localhost:8080/"
        },
        "id": "S4t1JnWTWebc",
        "outputId": "f549ef7f-ff87-4b36-b474-4e9ba6679695"
      },
      "execution_count": null,
      "outputs": [
        {
          "output_type": "stream",
          "name": "stdout",
          "text": [
            "Looking in indexes: https://pypi.org/simple, https://us-python.pkg.dev/colab-wheels/public/simple/\n",
            "Collecting paq-proyecto\n",
            "  Downloading paq_proyecto-0.0.1-py3-none-any.whl (3.7 kB)\n",
            "Installing collected packages: paq-proyecto\n",
            "Successfully installed paq-proyecto-0.0.1\n"
          ]
        }
      ]
    },
    {
      "cell_type": "code",
      "source": [
        "from paq_proyecto.estadisticos import Estadisticos"
      ],
      "metadata": {
        "id": "BzzNVGz9WiG7"
      },
      "execution_count": null,
      "outputs": []
    },
    {
      "cell_type": "code",
      "source": [
        "import scipy.stats as st\n",
        "import statistics as sta"
      ],
      "metadata": {
        "id": "-hLJzFfwW2Lb"
      },
      "execution_count": null,
      "outputs": []
    },
    {
      "cell_type": "code",
      "source": [
        "objeto=Estadisticos([8,8,9,10])"
      ],
      "metadata": {
        "id": "gGBgnC78Wo6Z"
      },
      "execution_count": null,
      "outputs": []
    },
    {
      "cell_type": "code",
      "source": [
        "objeto.media()"
      ],
      "metadata": {
        "colab": {
          "base_uri": "https://localhost:8080/"
        },
        "id": "zT__bnI244GT",
        "outputId": "19432ba9-0050-4397-e617-a55009cbba3c"
      },
      "execution_count": null,
      "outputs": [
        {
          "output_type": "execute_result",
          "data": {
            "text/plain": [
              "8.75"
            ]
          },
          "metadata": {},
          "execution_count": 5
        }
      ]
    },
    {
      "cell_type": "code",
      "source": [
        "sta.mean(objeto.x)"
      ],
      "metadata": {
        "colab": {
          "base_uri": "https://localhost:8080/"
        },
        "id": "qbRo2ISt46yB",
        "outputId": "23a6c97e-627b-4cef-828e-dea6d91d2b68"
      },
      "execution_count": null,
      "outputs": [
        {
          "output_type": "execute_result",
          "data": {
            "text/plain": [
              "8.75"
            ]
          },
          "metadata": {},
          "execution_count": 6
        }
      ]
    },
    {
      "cell_type": "code",
      "source": [
        "objeto.mediana()"
      ],
      "metadata": {
        "colab": {
          "base_uri": "https://localhost:8080/"
        },
        "id": "Rwt-zYwt49RJ",
        "outputId": "7d1eb4e4-b135-47db-bc8b-763e2b5a3169"
      },
      "execution_count": null,
      "outputs": [
        {
          "output_type": "execute_result",
          "data": {
            "text/plain": [
              "8.5"
            ]
          },
          "metadata": {},
          "execution_count": 7
        }
      ]
    },
    {
      "cell_type": "code",
      "source": [
        "sta.median(objeto.x)"
      ],
      "metadata": {
        "colab": {
          "base_uri": "https://localhost:8080/"
        },
        "id": "NvVZe8VT4-6h",
        "outputId": "f2aed624-9b1b-4aa7-b547-985ecb1add82"
      },
      "execution_count": null,
      "outputs": [
        {
          "output_type": "execute_result",
          "data": {
            "text/plain": [
              "8.5"
            ]
          },
          "metadata": {},
          "execution_count": 8
        }
      ]
    },
    {
      "cell_type": "code",
      "source": [
        "objeto.simetria()"
      ],
      "metadata": {
        "colab": {
          "base_uri": "https://localhost:8080/"
        },
        "id": "hdvRnu255Bgx",
        "outputId": "15d82475-e349-404f-f0aa-b9a0a7005688"
      },
      "execution_count": null,
      "outputs": [
        {
          "output_type": "execute_result",
          "data": {
            "text/plain": [
              "0.3204611393729892"
            ]
          },
          "metadata": {},
          "execution_count": 9
        }
      ]
    },
    {
      "cell_type": "code",
      "source": [
        "st.skew(objeto.x)"
      ],
      "metadata": {
        "colab": {
          "base_uri": "https://localhost:8080/"
        },
        "id": "Th5um2vX5Dxh",
        "outputId": "d0ce6265-ba63-45f8-857d-c8bf21c66f35"
      },
      "execution_count": null,
      "outputs": [
        {
          "output_type": "execute_result",
          "data": {
            "text/plain": [
              "0.49338220021815865"
            ]
          },
          "metadata": {},
          "execution_count": 10
        }
      ]
    },
    {
      "cell_type": "code",
      "source": [
        "objeto.varianza()"
      ],
      "metadata": {
        "colab": {
          "base_uri": "https://localhost:8080/"
        },
        "id": "mBIutqnvWyfB",
        "outputId": "de376823-acf9-4ec2-f1fc-1736d65ad28d"
      },
      "execution_count": null,
      "outputs": [
        {
          "output_type": "execute_result",
          "data": {
            "text/plain": [
              "0.9166666666666666"
            ]
          },
          "metadata": {},
          "execution_count": 11
        }
      ]
    },
    {
      "cell_type": "code",
      "source": [
        "sta.variance(objeto.x)"
      ],
      "metadata": {
        "id": "x4y5JeKKXEtZ",
        "outputId": "9eb8f2a6-9141-43a2-8715-a37d4e823a37",
        "colab": {
          "base_uri": "https://localhost:8080/"
        }
      },
      "execution_count": null,
      "outputs": [
        {
          "output_type": "execute_result",
          "data": {
            "text/plain": [
              "0.9166666666666666"
            ]
          },
          "metadata": {},
          "execution_count": 12
        }
      ]
    },
    {
      "cell_type": "code",
      "source": [
        "objeto.desviacion()"
      ],
      "metadata": {
        "colab": {
          "base_uri": "https://localhost:8080/"
        },
        "id": "lsDfDSIw5Hip",
        "outputId": "9123f55e-b0d2-4fcc-8b3f-3dc4ed8e200c"
      },
      "execution_count": null,
      "outputs": [
        {
          "output_type": "execute_result",
          "data": {
            "text/plain": [
              "0.9574271077563381"
            ]
          },
          "metadata": {},
          "execution_count": 13
        }
      ]
    },
    {
      "cell_type": "code",
      "source": [
        "sta.stdev(objeto.x)"
      ],
      "metadata": {
        "colab": {
          "base_uri": "https://localhost:8080/"
        },
        "id": "4ekpT27o5KcB",
        "outputId": "7e750c3b-dc4b-4d44-84e3-9882cc4be852"
      },
      "execution_count": null,
      "outputs": [
        {
          "output_type": "execute_result",
          "data": {
            "text/plain": [
              "0.9574271077563381"
            ]
          },
          "metadata": {},
          "execution_count": 14
        }
      ]
    },
    {
      "cell_type": "code",
      "source": [
        "objeto.curtosis()"
      ],
      "metadata": {
        "id": "LCP12M2PXJFJ",
        "colab": {
          "base_uri": "https://localhost:8080/"
        },
        "outputId": "64e29caa-527e-463d-a396-31ca8815b7b6"
      },
      "execution_count": null,
      "outputs": [
        {
          "output_type": "execute_result",
          "data": {
            "text/plain": [
              "0.9158057851239669"
            ]
          },
          "metadata": {},
          "execution_count": 15
        }
      ]
    },
    {
      "cell_type": "code",
      "source": [
        "st.kurtosis(objeto.x)"
      ],
      "metadata": {
        "colab": {
          "base_uri": "https://localhost:8080/"
        },
        "id": "nDfniZP34fLN",
        "outputId": "7be0e8b5-26c7-42cf-c5fa-e2a578bee150"
      },
      "execution_count": null,
      "outputs": [
        {
          "output_type": "execute_result",
          "data": {
            "text/plain": [
              "-1.371900826446281"
            ]
          },
          "metadata": {},
          "execution_count": 16
        }
      ]
    },
    {
      "cell_type": "code",
      "source": [
        "objeto.coeficiente_var()"
      ],
      "metadata": {
        "colab": {
          "base_uri": "https://localhost:8080/"
        },
        "id": "HMkbUDKX5QWR",
        "outputId": "5c56658b-047f-4fe9-c926-23415b0a10a5"
      },
      "execution_count": null,
      "outputs": [
        {
          "output_type": "execute_result",
          "data": {
            "text/plain": [
              "0.10942024088643865"
            ]
          },
          "metadata": {},
          "execution_count": 17
        }
      ]
    },
    {
      "cell_type": "code",
      "source": [
        "objeto.moda()"
      ],
      "metadata": {
        "colab": {
          "base_uri": "https://localhost:8080/"
        },
        "id": "PQhyN2Xt5SdZ",
        "outputId": "6d437a99-d8fe-44f2-b8f2-eba3e83133a4"
      },
      "execution_count": null,
      "outputs": [
        {
          "output_type": "execute_result",
          "data": {
            "text/plain": [
              "[8]"
            ]
          },
          "metadata": {},
          "execution_count": 18
        }
      ]
    },
    {
      "cell_type": "code",
      "source": [
        "sta.mode(objeto.x)"
      ],
      "metadata": {
        "colab": {
          "base_uri": "https://localhost:8080/"
        },
        "id": "P4nKtVZG5Va4",
        "outputId": "b2f28727-3d0e-48ae-9135-aeb5e70e7a28"
      },
      "execution_count": null,
      "outputs": [
        {
          "output_type": "execute_result",
          "data": {
            "text/plain": [
              "8"
            ]
          },
          "metadata": {},
          "execution_count": 19
        }
      ]
    },
    {
      "cell_type": "code",
      "source": [],
      "metadata": {
        "id": "s3bvwRLX5W2Y"
      },
      "execution_count": null,
      "outputs": []
    }
  ]
}