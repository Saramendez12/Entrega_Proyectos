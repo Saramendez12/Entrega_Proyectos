{
  "nbformat": 4,
  "nbformat_minor": 0,
  "metadata": {
    "colab": {
      "provenance": [],
      "collapsed_sections": [],
      "include_colab_link": true
    },
    "kernelspec": {
      "name": "python3",
      "display_name": "Python 3"
    },
    "language_info": {
      "name": "python"
    }
  },
  "cells": [
    {
      "cell_type": "markdown",
      "metadata": {
        "id": "view-in-github",
        "colab_type": "text"
      },
      "source": [
        "<a href=\"https://colab.research.google.com/github/Saramendez12/Entrega_Proyectos/blob/main/proyecto1.ipynb\" target=\"_parent\"><img src=\"https://colab.research.google.com/assets/colab-badge.svg\" alt=\"Open In Colab\"/></a>"
      ]
    },
    {
      "cell_type": "code",
      "source": [
        "class Tabla: \n",
        "\n",
        "  def __init__(self,x: list):\n",
        "    self.x=x\n",
        "    self.nombres_col=self.x[0]\n",
        "    self.tamaño= len(x)-1 , len(x[0])\n",
        "    y=[]\n",
        "    for i in self.x[1]:\n",
        "        y.append(type(i))\n",
        "    self.tipo_dato= y \n",
        "    self.contenido=self.x[1:]\n",
        "    for i in self.x[2:]:\n",
        "      for j in i:\n",
        "         if type(self.x[self.x.index(i)][i.index(j)])!=self.tipo_dato[i.index(j)]:\n",
        "           return \"Error, el tipo de dato no coincide en todas las filas\"\n",
        "    contador =0\n",
        "    for i in self.x:\n",
        "      contador +=len(i)\n",
        "    if contador!=(self.tamaño[0]+1)*self.tamaño[1]:\n",
        "       return f\"No todas las filas tienen el mismo numero de datos: hay {contador-len(self.x[0])} datos y deberian haber {self.tamaño[0]*self.tamaño[1]}\"\n",
        "  def __actualizar_tamaño(self):\n",
        "    self.tamaño = len(self.x) - 1, len(self.x[0])\n",
        "  def __actualizar_tipo(self):\n",
        "    y=[]\n",
        "    for i in self.x[1]:\n",
        "        y.append(type(i))\n",
        "    self.tipo_dato= y \n",
        "    ##revisar si  todas las filas tienen el mismo nuemro de datos \n",
        "  #def mismo_num_datos(self):\n",
        "   # contador =0\n",
        "    #for i in self.x:\n",
        "     # contador +=len(i)\n",
        "    #if contador!=(self.tamaño[0]+1)*self.tamaño[1]:\n",
        "    #    return  f\"No todas las filas tienen el mismo numero de datos: hay {contador-len(self.x[0])} datos y deberian haber {self.tamaño[0]*self.tamaño[1]}\"\n",
        "    #else:\n",
        "     #   return f\"Todas las filas tiene el mismo numero de datos:  {len(self.x[1])} datos por fila, {contador-len(self.x[0])} datos en total\"\n",
        " ##Acceder a una columna \n",
        "  def columna(self, num_column:str):\n",
        "    \"\"\"Ingresar el nombre de la columna a la que se quiere acceder\n",
        "    \"\"\"\n",
        "    if num_column not in self.x[0]:\n",
        "      return \"Error, no existe la columna solicitada\"\n",
        "    if num_column in self.x[0]:\n",
        "      w=[]\n",
        "      for i in self.x:\n",
        "        w.append(i[self.x[0].index(num_column)])\n",
        "      return w\n",
        "##Acceder a una fila \n",
        "  def fila(self,num_fila:int):\n",
        "    \"\"\"Ingresar el numero de la fila a la que se quiere acceder, Nota: el numero de filas comienza desde 1\n",
        "    \"\"\"\n",
        "    if (num_fila) > (self.tamaño[0]) or num_fila==0:\n",
        "      return \"Error, el numero de fila ingresado no existe\"\n",
        "    if (num_fila)<= (self.tamaño[0]):\n",
        "      return self.x[num_fila]\n",
        "##Agregar columna \n",
        "  def agregar_columna(self,num_column:list):\n",
        "    \"\"\"ingresar una lista con los elementos a agregar , \n",
        "    Nota: el primer elemento que se ingrese será el nombre de la columna y\n",
        "     el numero de elementos ingresados debe coincidir con el numero de filas\n",
        "    \"\"\"\n",
        "    if len(num_column)!=len(self.x):\n",
        "      return \"Error, el numero de datos ingresados no corresponde con el numero de datos requeridos\"\n",
        "    if num_column[0] in self.nombres_col:\n",
        "      return \" Error, el nombre de columna ingresado ya existe \"\n",
        "    if len(num_column)==len(self.x):\n",
        "      for i in self.x:\n",
        "        i.append(num_column[self.x.index(i)])\n",
        "    self.__actualizar_tamaño()\n",
        "    self.__actualizar_tipo()\n",
        "## Eliminar columna\n",
        "  def eliminar_columna(self,columna:str):\n",
        "    \"\"\"Ingresar el nombre de la columna que se quiere eliminar\n",
        "    \"\"\"\n",
        "    if columna not in self.x[0]:\n",
        "      return \"Error, la columna ingresada no existe\"\n",
        "    for i in self.x[1:]:\n",
        "        i.pop(self.x[0].index(columna))\n",
        "    self.x[0].remove(columna)\n",
        "    self.__actualizar_tamaño()\n",
        "    self.__actualizar_tipo()\n",
        "    ##Agregar fila \"\"\"\"\"\"\"\"\"\"\"\"\"\"\"\"\"\"\"\"\"\"\"\"\"\"\"\"\"\"\"\"\"\"\"\"\"\"\"\"\"\"\"\"\"\"\"\"\"\"\"\"\"\"\n",
        "  def agregar_fila(self,fila: list):\n",
        "    \"\"\"ingresar una lista con los elementos a agregar en forma de fila ,\n",
        "     Nota: los elementos deben coincidir con el numero de columnas\n",
        "    \"\"\"\n",
        "    if type(fila)!=list:\n",
        "      return\"Error: tipo de dato equivocado\"\n",
        "    if len(fila) != self.tamaño[1]:\n",
        "      return f\"Error: el largo de la fila deb ser de  {self.tamaño[1]}\"\n",
        "    if len(fila)== self.tamaño[1]:\n",
        "      for i in fila:\n",
        "        if type(fila[fila.index(i)])!=self.tipo_dato[fila.index(i)]:\n",
        "          return \"Alguno(s) dato(s) no coincide(n) con el tipo de dato de la columna\"    \n",
        "    self.x.append(fila)\n",
        "    self.__actualizar_tamaño()\n",
        "    #Eliminar una fila \n",
        "  def eliminar_filas(self, num_fila: int):\n",
        "    \"\"\"Ingresar el numero de fila que se quiere eliminar,Nota: el numero de filas empieza desde 1\n",
        "    \"\"\"\n",
        "    if num_fila==0:\n",
        "      return \"Error, el numero de fila a eliminar debe ser diferente de 0\"\n",
        "    if num_fila > self.tamaño[0]:\n",
        "      return \"Error,el numero de fila a eliminar no puede ser mayor al numero de filas existentes\"\n",
        "    self.x.pop(num_fila)\n",
        "    self.__actualizar_tamaño()\n",
        "    self.__actualizar_tipo()\n",
        "   #Operaciones entre columnas\n",
        "  def operaciones_col(self,col_1: str, col_2: str, operacion:str):\n",
        "    \"\"\"(Primera columna a operar, Segunda columna a operar,simbolo de la operaciona realizar)\n",
        "    \"\"\"\n",
        "    if col_1 not in self.nombres_col or col_2 not in self.nombres_col:\n",
        "      return \"Error, 1 o los 2 nombres de columna ingresados no existen \"\n",
        "    if self.tipo_dato[self.x[0].index(col_1)]==str or self.tipo_dato[self.x[0].index(col_2)] == str:\n",
        "      return \"Error, una de las columnas solicitadas no puede operarse debido a que es una columna de texto\"\n",
        "    if self.tipo_dato[self.x[0].index(col_1)]==bool or self.tipo_dato[self.x[0].index(col_2)] == bool:\n",
        "      return \"Error, una de las columnas solicitadas no puede operarse debido a que es una columna con booleanos\"\n",
        "    else:\n",
        "      suma=[f\"sumas entre columna {col_1} y columna {col_2}\"]\n",
        "      resta=[f\"restas entre columna {col_1} y columna {col_2}\"]\n",
        "      multiplicacion =[f\"multiplicaciones entre columna {col_1} y columna {col_2}\"]\n",
        "      division=[f\"divisiones entre columna {col_1} y columna {col_2}\"]\n",
        "      if operacion==\"+\":\n",
        "        for i in self.x[1:]:\n",
        "           suma.append(i[self.x[0].index(col_1)]+i[self.x[0].index(col_2)])\n",
        "        return suma\n",
        "      if operacion==\"-\":\n",
        "        for i in self.x[1:]:\n",
        "           resta.append(i[self.x[0].index(col_1)]-i[self.x[0].index(col_2)])\n",
        "        return resta\n",
        "      if operacion==\"*\":\n",
        "        for i in self.x[1:]:\n",
        "           multiplicacion.append(i[self.x[0].index(col_1)]*i[self.x[0].index(col_2)])\n",
        "        return multiplicacion \n",
        "      if operacion==\"/\":\n",
        "        for i in self.x[1:]:\n",
        "           division.append(i[self.x[0].index(col_1)]/i[self.x[0].index(col_2)])\n",
        "        return division\n",
        "    #Operaciones con escalar \"\"\"\"\"\"\"\"\"\"\"\"\"\"\"\"\"\"\"\"\"\"\"\"\"\"\"\"\"\"\"\"\"\"\"\"\"\"\"\"\"\"\n",
        "  def escalar(self,escalar:int,operacion:str):\n",
        "    \"\"\"(elemento que se quiere operar, simbolo de la operacion a realizar (entre comillas)),\n",
        "     Nota: solo se permite el simbolo de las 4 operaciones aritmeticas basicas\n",
        "    \"\"\"\n",
        "    if operacion==\"+\":\n",
        "      for i in self.x:\n",
        "        for j in i:\n",
        "          if type(self.x[self.x.index(i)][i.index(j)])==int or type(self.x[self.x.index(i)][i.index(j)])==float:\n",
        "            self.x[self.x.index(i)][i.index(j)]=j+escalar\n",
        "      print(self.x)\n",
        "    if operacion==\"-\":\n",
        "      for i in self.x:\n",
        "        for j in i:\n",
        "          if type(self.x[self.x.index(i)][i.index(j)])==int or type(self.x[self.x.index(i)][i.index(j)])==float:\n",
        "            self.x[self.x.index(i)][i.index(j)]=j-escalar\n",
        "      print(self.x)\n",
        "    if operacion==\"*\":\n",
        "      for i in self.contenido:\n",
        "        for j in i:\n",
        "          if type(self.contenido[self.contenido.index(i)][i.index(j)])==int or type(self.contenido[self.contenido.index(i)][i.index(j)])==float or type(self.contenido[self.contenido.index(i)][i.index(j)])==str:\n",
        "            self.x[self.x.index(i)][i.index(j)]=j*escalar\n",
        "      print(self.x)\n",
        "    if operacion==\"/\":\n",
        "      if escalar==0:\n",
        "        return \"Error, el divisor debe ser diferente de 0\"\n",
        "      for i in self.x:\n",
        "        for j in i:\n",
        "          if type(self.x[self.x.index(i)][i.index(j)])==int or type(self.x[self.x.index(i)][i.index(j)])==float:\n",
        "            self.x[self.x.index(i)][i.index(j)]= j* (1/escalar)\n",
        "      print(self.x)\n",
        "      #organizar a partir de una columna\n",
        "  def ordenar(self, num_column: str):\n",
        "      \"\"\"ingresar el nombre de la columna sobre la que se quiere ordenar\n",
        "      \"\"\"\n",
        "      if num_column not in self.x[0]:\n",
        "        return f\"la columna {num_column} no existe dentro de la tabla\"\n",
        "      else:\n",
        "           y= sorted(self.x[1:], key=lambda x:x[self.x[0].index(num_column)])\n",
        "           self.x=[self.nombres_col]\n",
        "           for i in y:\n",
        "             self.x.append(i)\n",
        "           return self.x\n",
        "  ## Imprimir tamaño\n",
        "  def __repr__(self):\n",
        "    for fila in self.x:\n",
        "      for elem in fila:\n",
        "        print(f\"{elem:<10}\",end=\" \")\n",
        "      print()\n",
        "    return f\"Tamaño: {self.tamaño}\""
      ],
      "metadata": {
        "id": "a7LKhARwZByK"
      },
      "execution_count": 1,
      "outputs": []
    },
    {
      "cell_type": "code",
      "source": [],
      "metadata": {
        "id": "wsOavT3dgWmP"
      },
      "execution_count": 1,
      "outputs": []
    },
    {
      "cell_type": "code",
      "source": [
        "mi_tabla=[['col 1', 'col 2', 'col 3',\"col 4\"],\n",
        " [20, \"Hola\", True, 7.5],\n",
        " [3, \"chao\",False , 4.6],\n",
        " [10, \"Chao\", True, 4.5]]"
      ],
      "metadata": {
        "id": "_RpL8O3zYRMo"
      },
      "execution_count": 2,
      "outputs": []
    },
    {
      "cell_type": "code",
      "source": [
        "objeto =Tabla(mi_tabla)"
      ],
      "metadata": {
        "id": "-1QtilbQYVIS"
      },
      "execution_count": 3,
      "outputs": []
    },
    {
      "cell_type": "code",
      "source": [
        "objeto.tamaño"
      ],
      "metadata": {
        "id": "ZaLmtjBYpvET",
        "colab": {
          "base_uri": "https://localhost:8080/"
        },
        "outputId": "982f41ab-4e48-44dc-83eb-ec57451a9988"
      },
      "execution_count": 4,
      "outputs": [
        {
          "output_type": "execute_result",
          "data": {
            "text/plain": [
              "(3, 4)"
            ]
          },
          "metadata": {},
          "execution_count": 4
        }
      ]
    },
    {
      "cell_type": "code",
      "source": [
        "objeto.nombres_col"
      ],
      "metadata": {
        "colab": {
          "base_uri": "https://localhost:8080/"
        },
        "id": "M8rd72mQ4aKq",
        "outputId": "3a361716-6d97-49e8-b2c9-13dc043e46a4"
      },
      "execution_count": 5,
      "outputs": [
        {
          "output_type": "execute_result",
          "data": {
            "text/plain": [
              "['col 1', 'col 2', 'col 3', 'col 4']"
            ]
          },
          "metadata": {},
          "execution_count": 5
        }
      ]
    },
    {
      "cell_type": "code",
      "source": [
        "objeto.tipo_dato"
      ],
      "metadata": {
        "colab": {
          "base_uri": "https://localhost:8080/"
        },
        "id": "KafNy2xS4cbO",
        "outputId": "afaaf9d5-76dc-4abf-bc21-0b8cec0f99ab"
      },
      "execution_count": 6,
      "outputs": [
        {
          "output_type": "execute_result",
          "data": {
            "text/plain": [
              "[int, str, bool, float]"
            ]
          },
          "metadata": {},
          "execution_count": 6
        }
      ]
    },
    {
      "cell_type": "code",
      "source": [
        "objeto.columna(\"col 1\")"
      ],
      "metadata": {
        "colab": {
          "base_uri": "https://localhost:8080/"
        },
        "id": "DgrnxAA1CPDk",
        "outputId": "9cc3d540-516c-4aee-e498-e71aa8f593a7"
      },
      "execution_count": 7,
      "outputs": [
        {
          "output_type": "execute_result",
          "data": {
            "text/plain": [
              "['col 1', 20, 3, 10]"
            ]
          },
          "metadata": {},
          "execution_count": 7
        }
      ]
    },
    {
      "cell_type": "code",
      "source": [
        "objeto.fila(4)"
      ],
      "metadata": {
        "colab": {
          "base_uri": "https://localhost:8080/",
          "height": 35
        },
        "id": "5PQDPLKYCRl0",
        "outputId": "da665551-c636-48a2-ba9e-75d1de53b4de"
      },
      "execution_count": 8,
      "outputs": [
        {
          "output_type": "execute_result",
          "data": {
            "text/plain": [
              "'Error, el numero de fila ingresado no existe'"
            ],
            "application/vnd.google.colaboratory.intrinsic+json": {
              "type": "string"
            }
          },
          "metadata": {},
          "execution_count": 8
        }
      ]
    },
    {
      "cell_type": "code",
      "source": [
        "objeto.agregar_fila([1,2,3,4])"
      ],
      "metadata": {
        "colab": {
          "base_uri": "https://localhost:8080/",
          "height": 35
        },
        "id": "iGe5g2pRCXKD",
        "outputId": "54a19486-7c64-40ae-f54b-47a651ed2d36"
      },
      "execution_count": 9,
      "outputs": [
        {
          "output_type": "execute_result",
          "data": {
            "text/plain": [
              "'Alguno(s) dato(s) no coincide(n) con el tipo de dato de la columna'"
            ],
            "application/vnd.google.colaboratory.intrinsic+json": {
              "type": "string"
            }
          },
          "metadata": {},
          "execution_count": 9
        }
      ]
    },
    {
      "cell_type": "code",
      "source": [
        "objeto.agregar_columna([\"col 4\",1,2,3])"
      ],
      "metadata": {
        "id": "Kh64_-2PCVib",
        "colab": {
          "base_uri": "https://localhost:8080/",
          "height": 35
        },
        "outputId": "257f1647-68cf-4807-a731-28a72d9fa79b"
      },
      "execution_count": 10,
      "outputs": [
        {
          "output_type": "execute_result",
          "data": {
            "text/plain": [
              "' Error, el nombre de columna ingresado ya existe '"
            ],
            "application/vnd.google.colaboratory.intrinsic+json": {
              "type": "string"
            }
          },
          "metadata": {},
          "execution_count": 10
        }
      ]
    },
    {
      "cell_type": "code",
      "source": [
        "objeto.eliminar_columna(\"col 4\")"
      ],
      "metadata": {
        "id": "Jz3IPnNGCv_T"
      },
      "execution_count": 11,
      "outputs": []
    },
    {
      "cell_type": "code",
      "source": [
        "objeto.agregar_columna(objeto.operaciones_col(\"col 1\",\"col 4\",\"+\"))"
      ],
      "metadata": {
        "id": "oEZlkcXnG4Hc",
        "colab": {
          "base_uri": "https://localhost:8080/",
          "height": 35
        },
        "outputId": "2f33c7f5-f44c-4a1a-e7ff-77e555f36dc2"
      },
      "execution_count": 12,
      "outputs": [
        {
          "output_type": "execute_result",
          "data": {
            "text/plain": [
              "'Error, el numero de datos ingresados no corresponde con el numero de datos requeridos'"
            ],
            "application/vnd.google.colaboratory.intrinsic+json": {
              "type": "string"
            }
          },
          "metadata": {},
          "execution_count": 12
        }
      ]
    },
    {
      "cell_type": "code",
      "source": [
        "objeto"
      ],
      "metadata": {
        "id": "gvWkaDKZG2tE",
        "outputId": "1f715c3f-a8cc-44d8-eb07-c010a49a5fee",
        "colab": {
          "base_uri": "https://localhost:8080/"
        }
      },
      "execution_count": 13,
      "outputs": [
        {
          "output_type": "stream",
          "name": "stdout",
          "text": [
            "col 1      col 2      col 3      \n",
            "20         Hola       1          \n",
            "3          chao       0          \n",
            "10         Chao       1          \n"
          ]
        },
        {
          "output_type": "execute_result",
          "data": {
            "text/plain": [
              "Tamaño: (3, 3)"
            ]
          },
          "metadata": {},
          "execution_count": 13
        }
      ]
    },
    {
      "cell_type": "code",
      "source": [
        "objeto.eliminar_filas(4)"
      ],
      "metadata": {
        "colab": {
          "base_uri": "https://localhost:8080/",
          "height": 35
        },
        "id": "xJi7w61xC0o5",
        "outputId": "4453a919-c71f-43d8-83d0-d3fbb7da9933"
      },
      "execution_count": 14,
      "outputs": [
        {
          "output_type": "execute_result",
          "data": {
            "text/plain": [
              "'Error,el numero de fila a eliminar no puede ser mayor al numero de filas existentes'"
            ],
            "application/vnd.google.colaboratory.intrinsic+json": {
              "type": "string"
            }
          },
          "metadata": {},
          "execution_count": 14
        }
      ]
    },
    {
      "cell_type": "code",
      "source": [
        "objeto.escalar(2,\"*\")"
      ],
      "metadata": {
        "colab": {
          "base_uri": "https://localhost:8080/"
        },
        "id": "ywI0t0weDOyQ",
        "outputId": "b40b4efc-acd6-4eaf-bf16-6894e61bade1"
      },
      "execution_count": 15,
      "outputs": [
        {
          "output_type": "stream",
          "name": "stdout",
          "text": [
            "[['col 1', 'col 2', 'col 3'], [40, 'HolaHola', True], [6, 'chaochao', False], [20, 'ChaoChao', True]]\n"
          ]
        }
      ]
    },
    {
      "cell_type": "code",
      "source": [
        "objeto.x"
      ],
      "metadata": {
        "colab": {
          "base_uri": "https://localhost:8080/"
        },
        "id": "jBBxEVTcDWnf",
        "outputId": "6ee8e984-74eb-45f7-d3ca-84940e7abdda"
      },
      "execution_count": 16,
      "outputs": [
        {
          "output_type": "execute_result",
          "data": {
            "text/plain": [
              "[['col 1', 'col 2', 'col 3'],\n",
              " [40, 'HolaHola', True],\n",
              " [6, 'chaochao', False],\n",
              " [20, 'ChaoChao', True]]"
            ]
          },
          "metadata": {},
          "execution_count": 16
        }
      ]
    },
    {
      "cell_type": "code",
      "source": [
        "objeto.operaciones_col(\"col 1\",\"col 3\",\"+\")"
      ],
      "metadata": {
        "colab": {
          "base_uri": "https://localhost:8080/",
          "height": 35
        },
        "id": "OxdeY10SDXnq",
        "outputId": "476091e5-740b-4b13-bd28-6781ccc5ae51"
      },
      "execution_count": 17,
      "outputs": [
        {
          "output_type": "execute_result",
          "data": {
            "text/plain": [
              "'Error, una de las columnas solicitadas no puede operarse debido a que es una columna con booleanos'"
            ],
            "application/vnd.google.colaboratory.intrinsic+json": {
              "type": "string"
            }
          },
          "metadata": {},
          "execution_count": 17
        }
      ]
    }
  ]
}