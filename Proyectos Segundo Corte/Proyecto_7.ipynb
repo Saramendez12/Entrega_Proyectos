{
  "nbformat": 4,
  "nbformat_minor": 0,
  "metadata": {
    "colab": {
      "provenance": [],
      "collapsed_sections": []
    },
    "kernelspec": {
      "name": "python3",
      "display_name": "Python 3"
    },
    "language_info": {
      "name": "python"
    }
  },
  "cells": [
    {
      "cell_type": "code",
      "execution_count": null,
      "metadata": {
        "id": "lIptb3215d1l",
        "colab": {
          "base_uri": "https://localhost:8080/"
        },
        "outputId": "65adddcc-35af-4b36-9cfa-0fe16c698e8e"
      },
      "outputs": [
        {
          "output_type": "stream",
          "name": "stdout",
          "text": [
            "Looking in indexes: https://pypi.org/simple, https://us-python.pkg.dev/colab-wheels/public/simple/\n",
            "Collecting wooldridge\n",
            "  Downloading wooldridge-0.4.4-py3-none-any.whl (5.1 MB)\n",
            "\u001b[K     |████████████████████████████████| 5.1 MB 5.0 MB/s \n",
            "\u001b[?25hRequirement already satisfied: pandas in /usr/local/lib/python3.7/dist-packages (from wooldridge) (1.3.5)\n",
            "Requirement already satisfied: python-dateutil>=2.7.3 in /usr/local/lib/python3.7/dist-packages (from pandas->wooldridge) (2.8.2)\n",
            "Requirement already satisfied: pytz>=2017.3 in /usr/local/lib/python3.7/dist-packages (from pandas->wooldridge) (2022.4)\n",
            "Requirement already satisfied: numpy>=1.17.3 in /usr/local/lib/python3.7/dist-packages (from pandas->wooldridge) (1.21.6)\n",
            "Requirement already satisfied: six>=1.5 in /usr/local/lib/python3.7/dist-packages (from python-dateutil>=2.7.3->pandas->wooldridge) (1.15.0)\n",
            "Installing collected packages: wooldridge\n",
            "Successfully installed wooldridge-0.4.4\n"
          ]
        }
      ],
      "source": [
        "!pip install wooldridge \n",
        "import wooldridge as wd\n",
        "import scipy.stats as st\n",
        "import numpy as np\n",
        "from sklearn.linear_model import LinearRegression\n",
        "from sklearn.model_selection import train_test_split\n"
      ]
    },
    {
      "cell_type": "markdown",
      "source": [
        "**Creación del paquete que contenga el objeto ``` Linear Regression```. Con los siguientes atributos y métodos mencionados en la linea de codigo.**\n",
        "\n",
        "\n",
        "\n",
        "\n",
        "\n"
      ],
      "metadata": {
        "id": "pqOW6ZCqcYYH"
      }
    },
    {
      "cell_type": "code",
      "source": [
        "wage=wd.data(\"wage1\")[[\"educ\",\"tenure\",\"exper\",\"wage\"]]"
      ],
      "metadata": {
        "id": "s3d71SWryz36"
      },
      "execution_count": null,
      "outputs": []
    },
    {
      "cell_type": "code",
      "source": [
        "y = wage['wage']\n",
        "x = wage[[\"educ\",\"tenure\",\"exper\"]]\n"
      ],
      "metadata": {
        "id": "DDSwQwEwyz2F"
      },
      "execution_count": null,
      "outputs": []
    },
    {
      "cell_type": "code",
      "source": [
        "class LinearRegresion:\n",
        "  def __init__(self,x:list,y:list):\n",
        "\n",
        "    self.X=x\n",
        "    self.y=y\n",
        "    self.x=np.c_[np.ones(len(self.X)),self.X]\n",
        "\n",
        "  def tabla(self):\n",
        "    self.betas=np.dot((np.linalg.inv(np.dot(self.x.T,self.x))),(np.dot(self.x.T,self.y)))\n",
        "    self.y_=np.dot(self.x,self.betas)\n",
        "    self.ee= sum((self.y-self.y_)**2)\n",
        "    sigma=self.ee/(self.X.shape[0]-self.X.shape[1])\n",
        "    self.error =np.sqrt(np.diag(np.linalg.inv(np.dot(self.x.T,self.x))*sigma))\n",
        "    self.t=self.betas/self.error\n",
        "    T=st.t(df=self.x.shape[0]-self.x.shape[1])\n",
        "    self.Pvalor=((1-T.cdf(self.t))*2)\n",
        "    self.Int_inf=self.betas- self.error*T.ppf(0.975)\n",
        "    self.Int_sup=self.betas+ self.error*T.ppf(0.975)\n",
        "    lista=[[\" \",\"Coef\",\"Stde err\",\"T\",\"P>|t|\",\"[0.25\",\"0.975]\"]]\n",
        "    for i in range(0,self.x.shape[1]):\n",
        "        lista.append([f\"B_{i}\",self.betas[i], self.error[i], self.t[i] , self.Pvalor[i],self.Int_inf[i], self.Int_sup[i]])\n",
        "    for fila in lista:\n",
        "      for elem in fila:\n",
        "        print(f\"{elem:<20}\",end=\" \")\n",
        "      print()\n",
        "    return \" \"  \n",
        "  def bp(self):\n",
        "    X=np.c_[self.X, np.ones(len(self.X))]\n",
        "    err=(self.y - np.dot(self.x,np.dot((np.linalg.inv(np.dot(self.x.T,self.x))),(np.dot(self.x.T,self.y)))))**2\n",
        "    _err=np.linalg.lstsq(X,err, rcond=None) [0]\n",
        "    pred_err=np.dot(X,_err)\n",
        "    ss_tot = sum((err - np.mean(err))**2)\n",
        "    ss_res = sum((err - pred_err)**2)\n",
        "    r2 = 1 - (ss_res / ss_tot)\n",
        "    LM = self.y.shape[0] * r2\n",
        "    pval =  st.chi2.sf(LM,X.shape[1])\n",
        "    if pval<0.05:\n",
        "      en=\"Se presenta heterocedasticidad\"\n",
        "    else:\n",
        "      en=\"No se presenta heterocedasticidad\"\n",
        "    return [LM,pval,en]\n",
        "  def Jb(self):\n",
        "    err=self.y - np.dot(self.x,np.dot((np.linalg.inv(np.dot(self.x.T,self.x))),(np.dot(self.x.T,self.y))))\n",
        "    kur=st.kurtosis(err)\n",
        "    asi=st.skew(err)\n",
        "    stadistic=self.x.shape[0]*(((asi**2)/6)+(kur**2)/24)\n",
        "    pval =  st.chi2.sf(stadistic,self.x.shape[1])\n",
        "    if pval<0.05:\n",
        "      en=\"Los errores siguen una distribución normal\"\n",
        "    else:\n",
        "      en=\"No hay suficiente evidencia estadistica para considerar que los errores siguen una distribución normal \"\n",
        "    return [stadistic,pval,en]\n",
        "  def predition(self,a):\n",
        "    betas = np.dot((np.linalg.inv(np.dot(self.x.T,self.x))),(np.dot(self.x.T,self.y)))\n",
        "    return betas[0]+np.dot(a,betas[1:])"
      ],
      "metadata": {
        "id": "9TQ91ZLsYP9v"
      },
      "execution_count": null,
      "outputs": []
    },
    {
      "cell_type": "code",
      "source": [
        "objeto=LinearRegresion(x,y)"
      ],
      "metadata": {
        "id": "Xnq2soMdqWjm"
      },
      "execution_count": null,
      "outputs": []
    },
    {
      "cell_type": "code",
      "source": [
        "import statsmodels.formula.api as smf"
      ],
      "metadata": {
        "id": "NECzdrnFv3ka"
      },
      "execution_count": null,
      "outputs": []
    },
    {
      "cell_type": "code",
      "source": [
        "mod1 = smf.ols(\"wage~educ+tenure+exper\",data=wage).fit()  \n",
        "print(mod1.summary())\n"
      ],
      "metadata": {
        "id": "5wpnSrPQtzjL"
      },
      "execution_count": null,
      "outputs": []
    },
    {
      "cell_type": "code",
      "source": [
        "from statsmodels.compat import lzip\n",
        "import statsmodels.stats.api as sms\n",
        "names = ['Lagrange multiplier statistic', 'p-value',\n",
        "        'f-value', 'f p-value']\n",
        "test = sms.het_breuschpagan(mod1.resid, mod1.model.exog)\n",
        "\n",
        "lzip(names, test)"
      ],
      "metadata": {
        "id": "b3AsyAbzz3xa"
      },
      "execution_count": null,
      "outputs": []
    },
    {
      "cell_type": "code",
      "source": [
        "objeto.tabla()"
      ],
      "metadata": {
        "id": "GhJsC1-XmhLw",
        "colab": {
          "base_uri": "https://localhost:8080/",
          "height": 142
        },
        "outputId": "239f9729-1968-4c93-a06b-d59552db3691"
      },
      "execution_count": null,
      "outputs": [
        {
          "output_type": "stream",
          "name": "stdout",
          "text": [
            "                     Coef                 Stde err             T                    P>|t|                [0.25                0.975]               \n",
            "B_0                  -2.872734819298188   0.7282670536849548   -3.944617300429082   1.9999091513544727   -4.303429240974972   -1.4420403976214038  \n",
            "B_1                  0.59896506593957     0.0512344971850985   11.690659591635034   0.0                  0.49831392574416994  0.69961620613497     \n",
            "B_2                  0.16926865077732756  0.021623904484840934 7.827848615220735    2.7755575615628914e-14 0.12678808082047652  0.2117492207341786   \n",
            "B_3                  0.022339519475256697 0.012045315836126117 1.8546229737086986   0.06421379214504053  -0.0013237316451704187 0.04600277059568381  \n"
          ]
        },
        {
          "output_type": "execute_result",
          "data": {
            "text/plain": [
              "' '"
            ],
            "application/vnd.google.colaboratory.intrinsic+json": {
              "type": "string"
            }
          },
          "metadata": {},
          "execution_count": 13
        }
      ]
    },
    {
      "cell_type": "code",
      "source": [
        "import scipy.stats as stats"
      ],
      "metadata": {
        "id": "RMrXkX1VvDKy"
      },
      "execution_count": null,
      "outputs": []
    },
    {
      "cell_type": "code",
      "source": [
        "stats.jarque_bera()"
      ],
      "metadata": {
        "id": "_UnTIk9gvBt6"
      },
      "execution_count": null,
      "outputs": []
    },
    {
      "cell_type": "code",
      "source": [
        "wage=wd.data(\"wage1\")[[\"educ\",\"tenure\",\"exper\",\"wage\"]]\n",
        "y = wage['wage']\n",
        "x = wage[[\"educ\",\"tenure\",\"exper\"]]\n"
      ],
      "metadata": {
        "id": "jD4pwv7SZM3L"
      },
      "execution_count": null,
      "outputs": []
    },
    {
      "cell_type": "code",
      "source": [
        "objeto = LinearRegresion(x,y)"
      ],
      "metadata": {
        "id": "29nPn0uwZM0o"
      },
      "execution_count": null,
      "outputs": []
    },
    {
      "cell_type": "code",
      "source": [
        "objeto.tabla()"
      ],
      "metadata": {
        "colab": {
          "base_uri": "https://localhost:8080/",
          "height": 122
        },
        "id": "urNpMy19ZMyP",
        "outputId": "2b78efc7-4dce-426e-d1b8-de655d843c73"
      },
      "execution_count": null,
      "outputs": [
        {
          "output_type": "stream",
          "name": "stdout",
          "text": [
            "                     Coef                 Stde err             T                    P>|t|                [0.25                0.975]               \n",
            "B_0                  -2.872734819298188   0.7282670536849548   -3.944617300429082   1.9999091513544727   -4.303429240974972   -1.4420403976214038  \n",
            "B_1                  0.59896506593957     0.0512344971850985   11.690659591635034   0.0                  0.49831392574416994  0.69961620613497     \n",
            "B_2                  0.16926865077732756  0.021623904484840934 7.827848615220735    2.7755575615628914e-14 0.12678808082047652  0.2117492207341786   \n",
            "B_3                  0.022339519475256697 0.012045315836126117 1.8546229737086986   0.06421379214504053  -0.0013237316451704187 0.04600277059568381  \n"
          ]
        },
        {
          "output_type": "execute_result",
          "data": {
            "text/plain": [
              "' '"
            ],
            "application/vnd.google.colaboratory.intrinsic+json": {
              "type": "string"
            }
          },
          "metadata": {},
          "execution_count": 27
        }
      ]
    },
    {
      "cell_type": "code",
      "source": [
        "objeto.predition(np.array([[1, 2, 3],[2, 4, 3],[6, 2, 3]]))"
      ],
      "metadata": {
        "colab": {
          "base_uri": "https://localhost:8080/"
        },
        "id": "SV-v-225Yyo_",
        "outputId": "5353847b-8ca2-4da5-e4e5-47b8f36ff851"
      },
      "execution_count": null,
      "outputs": [
        {
          "output_type": "execute_result",
          "data": {
            "text/plain": [
              "array([-1.86821389, -0.93071153,  1.12661144])"
            ]
          },
          "metadata": {},
          "execution_count": 5
        }
      ]
    },
    {
      "cell_type": "code",
      "source": [
        "objeto.bp()"
      ],
      "metadata": {
        "id": "EVBeu3EdZEoX",
        "colab": {
          "base_uri": "https://localhost:8080/"
        },
        "outputId": "f45fccf7-b21d-4b64-d6b3-a9417a103e27"
      },
      "execution_count": null,
      "outputs": [
        {
          "output_type": "execute_result",
          "data": {
            "text/plain": [
              "[43.09561743464087, 9.885756724053876e-09, 'Se presenta heterocedasticidad']"
            ]
          },
          "metadata": {},
          "execution_count": 15
        }
      ]
    },
    {
      "cell_type": "markdown",
      "source": [],
      "metadata": {
        "id": "rlzOulU3-iP9"
      }
    }
  ]
}